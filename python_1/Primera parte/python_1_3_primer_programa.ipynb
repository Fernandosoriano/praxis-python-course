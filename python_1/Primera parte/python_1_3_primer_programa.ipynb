{
 "cells": [
  {
   "cell_type": "markdown",
   "source": [
    "# Inicio con python: Variables del lenguaje de programación"
   ],
   "metadata": {}
  },
  {
   "cell_type": "markdown",
   "source": [
    "## Primer Programa\n",
    "\n"
   ],
   "metadata": {}
  },
  {
   "cell_type": "markdown",
   "source": [
    "print(\"hello world\")"
   ],
   "metadata": {}
  },
  {
   "cell_type": "code",
   "execution_count": 2,
   "source": [
    "print(\"hello world desde azteca \")"
   ],
   "outputs": [
    {
     "output_type": "stream",
     "name": "stdout",
     "text": [
      "hello world\n"
     ]
    }
   ],
   "metadata": {
    "tags": []
   }
  },
  {
   "cell_type": "markdown",
   "source": [
    "## Entrada estandar"
   ],
   "metadata": {}
  },
  {
   "cell_type": "code",
   "execution_count": 3,
   "source": [
    "nombre = input(\" como te llamas ? \")\r\n",
    "print( f\"Hola { nombre }! un gusto verte\" )"
   ],
   "outputs": [
    {
     "output_type": "stream",
     "name": "stdout",
     "text": [
      " como te llamas ?  david\n"
     ]
    },
    {
     "output_type": "stream",
     "name": "stdout",
     "text": [
      "Hola david! un gusto verte\n"
     ]
    }
   ],
   "metadata": {}
  },
  {
   "cell_type": "code",
   "execution_count": null,
   "source": [],
   "outputs": [],
   "metadata": {}
  }
 ],
 "metadata": {
  "kernelspec": {
   "display_name": "Python 3",
   "language": "python",
   "name": "python3"
  },
  "language_info": {
   "codemirror_mode": {
    "name": "ipython",
    "version": 3
   },
   "file_extension": ".py",
   "mimetype": "text/x-python",
   "name": "python",
   "nbconvert_exporter": "python",
   "pygments_lexer": "ipython3",
   "version": "3.8.5"
  }
 },
 "nbformat": 4,
 "nbformat_minor": 4
}