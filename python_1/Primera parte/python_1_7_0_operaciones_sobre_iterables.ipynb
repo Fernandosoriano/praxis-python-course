{
 "cells": [
  {
   "cell_type": "markdown",
   "source": [
    "# Operaciones con datos serializables"
   ],
   "metadata": {}
  },
  {
   "cell_type": "markdown",
   "source": [
    "## Desempaquetado"
   ],
   "metadata": {}
  },
  {
   "cell_type": "code",
   "execution_count": 2,
   "source": [
    "a,b,c = (1,2,3)\r\n",
    "print(f\"{a}\\t{b}\\t{c}\")\r\n",
    "\r\n",
    "a,b,c = \"jkl\"\r\n",
    "print(f\"{a}\\t{b}\\t{c}\")\r\n",
    "\r\n",
    "m= {'k',3,'g'}\r\n",
    "a,b,c = m\r\n",
    "print(f\"{a}\\t{b}\\t{c}\")\r\n",
    "\r\n",
    "a,b,c = {\"prim\":\"1\",\"sec\":\"2\",\"ter\":\"3\"}\r\n",
    "print(f\"{a}\\t{b}\\t{c}\")\r\n",
    "\r\n"
   ],
   "outputs": [
    {
     "output_type": "stream",
     "name": "stdout",
     "text": [
      "1\t2\t3\n",
      "j\tk\tl\n",
      "g\t3\tk\n",
      "prim\n",
      "sec\n",
      "ter\n",
      "prim\tsec\tter\n"
     ]
    }
   ],
   "metadata": {}
  },
  {
   "cell_type": "markdown",
   "source": [
    "## Prueba de pertenencia"
   ],
   "metadata": {}
  },
  {
   "cell_type": "code",
   "execution_count": 2,
   "source": [
    "print('lego' in 'lego batman')\r\n",
    "print(5 in [1,2,3,4,5,6])"
   ],
   "outputs": [
    {
     "output_type": "stream",
     "name": "stdout",
     "text": [
      "True\n",
      "True\n"
     ]
    }
   ],
   "metadata": {}
  },
  {
   "cell_type": "code",
   "execution_count": 8,
   "source": [
    "1 in [1,2,3]"
   ],
   "outputs": [
    {
     "output_type": "execute_result",
     "data": {
      "text/plain": [
       "True"
      ]
     },
     "metadata": {},
     "execution_count": 8
    }
   ],
   "metadata": {}
  },
  {
   "cell_type": "markdown",
   "source": [
    "## Iteración"
   ],
   "metadata": {}
  },
  {
   "cell_type": "code",
   "execution_count": 9,
   "source": [
    "for lit in \"python\":\r\n",
    "    print(lit)"
   ],
   "outputs": [
    {
     "output_type": "stream",
     "name": "stdout",
     "text": [
      "p\n",
      "y\n",
      "t\n",
      "h\n",
      "o\n",
      "n\n"
     ]
    }
   ],
   "metadata": {}
  },
  {
   "cell_type": "markdown",
   "source": [
    "## Función all"
   ],
   "metadata": {}
  },
  {
   "cell_type": "code",
   "execution_count": 7,
   "source": [
    "var = None\r\n",
    "print(bool(1))\r\n",
    "print(bool(2))\r\n",
    "print(bool(0))\r\n",
    "print()\r\n",
    "print(all([False,0,\"\"]))\r\n",
    "print(all([1,0,None]))\r\n",
    "print(all([1,2,0]))\r\n",
    "print(all([1,2,3]))# AND"
   ],
   "outputs": [
    {
     "output_type": "stream",
     "name": "stdout",
     "text": [
      "True\n",
      "True\n",
      "False\n",
      "\n",
      "False\n",
      "False\n",
      "False\n",
      "True\n"
     ]
    }
   ],
   "metadata": {}
  },
  {
   "cell_type": "markdown",
   "source": [
    "## Función any"
   ],
   "metadata": {}
  },
  {
   "cell_type": "code",
   "execution_count": 14,
   "source": [
    "print(bool(1))\r\n",
    "print(bool(2))\r\n",
    "print(bool(0))\r\n",
    "print()\r\n",
    "print(any([0,0,0]))\r\n",
    "print(any([1,0,0]))\r\n",
    "print(any([1,2,0]))\r\n",
    "print(any([1,2,3]))# OR"
   ],
   "outputs": [
    {
     "output_type": "stream",
     "name": "stdout",
     "text": [
      "True\n",
      "True\n",
      "False\n",
      "\n",
      "False\n",
      "True\n",
      "True\n",
      "True\n"
     ]
    }
   ],
   "metadata": {}
  },
  {
   "cell_type": "markdown",
   "source": [
    "## max y min"
   ],
   "metadata": {}
  },
  {
   "cell_type": "code",
   "execution_count": 9,
   "source": [
    "print(max([1,2,3]))\r\n",
    "print(max(\"321\"))\r\n",
    "print(max(\"abc\")) \r\n",
    "# en letras se fija dónde está la  posicion más alta\r\n",
    "print(min([1,2,3]))\r\n",
    "print(min(\"123\"))\r\n",
    "print(min(\"abc\"))"
   ],
   "outputs": [
    {
     "output_type": "stream",
     "name": "stdout",
     "text": [
      "3\n",
      "á\n",
      "c\n",
      "1\n",
      "1\n",
      "a\n"
     ]
    }
   ],
   "metadata": {}
  },
  {
   "cell_type": "markdown",
   "source": [
    "## sum y sorted"
   ],
   "metadata": {}
  },
  {
   "cell_type": "code",
   "execution_count": 3,
   "source": [
    "# sum sólo recibe listas de  tipos número\r\n",
    "print(sum([1,2,3]))\r\n",
    "# sorted recibe todo tipo de datos\r\n",
    "# x[1] te estas trayendo el segundo elmento de cada una de las listas\r\n",
    "# y se ordena del menor al mayor\r\n",
    "print(sorted([['1',4],['2',3],['3',2]],key=lambda x:x[1]))\r\n",
    "print(sorted(\"132\"))\r\n",
    "print(sorted(\"acb\"))"
   ],
   "outputs": [
    {
     "output_type": "stream",
     "name": "stdout",
     "text": [
      "6\n",
      "[['3', 2], ['2', 3], ['1', 4]]\n",
      "['1', '2', '3']\n",
      "['a', 'b', 'c']\n"
     ]
    }
   ],
   "metadata": {}
  },
  {
   "cell_type": "markdown",
   "source": [
    "## Zip"
   ],
   "metadata": {}
  },
  {
   "cell_type": "code",
   "execution_count": 5,
   "source": [
    "# zip empaqueta los datos y devuelbe en pares de tuplas\r\n",
    "a= [1,2,3]\r\n",
    "b= \"abcd\"\r\n",
    "print(zip(a,b))\r\n",
    "for item in zip(a,b):\r\n",
    "    print(item)"
   ],
   "outputs": [
    {
     "output_type": "stream",
     "name": "stdout",
     "text": [
      "<zip object at 0x0000027F1FACFD80>\n",
      "(1, 'a')\n",
      "(1, 'a')\n",
      "(2, 'b')\n",
      "(3, 'c')\n"
     ]
    }
   ],
   "metadata": {}
  },
  {
   "cell_type": "markdown",
   "source": [
    "## Map"
   ],
   "metadata": {}
  },
  {
   "cell_type": "code",
   "execution_count": 28,
   "source": [
    "# ejecuta una función para varias cantidades de ellemtnos\r\n",
    "def mul(x,y):\r\n",
    "    return x*y\r\n",
    "\r\n",
    "print(map(mul,[1,2,3],[40,30]))\r\n",
    "for item in map(mul,[1.5,3,5],[40,30]):\r\n",
    "    print(item)"
   ],
   "outputs": [
    {
     "output_type": "stream",
     "name": "stdout",
     "text": [
      "<map object at 0x7f99b82fef90>\n",
      "60.0\n",
      "90\n"
     ]
    }
   ],
   "metadata": {}
  },
  {
   "cell_type": "markdown",
   "source": [
    "## filter"
   ],
   "metadata": {}
  },
  {
   "cell_type": "code",
   "execution_count": 31,
   "source": [
    "def fil(a):\n",
    "    return a>10\n",
    "\n",
    "a= [1,2,3,4,5,6,7,8,9,10,11,12,13,14]\n",
    "print(filter(fil,a))\n",
    "for item in filter(fil,a):\n",
    "    print(item)"
   ],
   "outputs": [
    {
     "output_type": "stream",
     "name": "stdout",
     "text": [
      "<filter object at 0x7f99b8288f50>\n",
      "11\n",
      "12\n",
      "13\n",
      "14\n"
     ]
    }
   ],
   "metadata": {}
  },
  {
   "cell_type": "code",
   "execution_count": null,
   "source": [],
   "outputs": [],
   "metadata": {}
  }
 ],
 "metadata": {
  "kernelspec": {
   "display_name": "Python 3",
   "language": "python",
   "name": "python3"
  },
  "language_info": {
   "codemirror_mode": {
    "name": "ipython",
    "version": 3
   },
   "file_extension": ".py",
   "mimetype": "text/x-python",
   "name": "python",
   "nbconvert_exporter": "python",
   "pygments_lexer": "ipython3",
   "version": "3.8.5"
  }
 },
 "nbformat": 4,
 "nbformat_minor": 4
}