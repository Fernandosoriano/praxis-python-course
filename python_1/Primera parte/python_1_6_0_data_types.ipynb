{
 "cells": [
  {
   "cell_type": "markdown",
   "source": [
    "## Tipos de datos Secuenciales"
   ],
   "metadata": {}
  },
  {
   "cell_type": "markdown",
   "source": [
    "Son objetos iterables con caractristicas únicas entre sí"
   ],
   "metadata": {}
  },
  {
   "cell_type": "markdown",
   "source": [
    "## Strings"
   ],
   "metadata": {}
  },
  {
   "cell_type": "code",
   "execution_count": 3,
   "source": [
    "\"world\"\r\n",
    "'hello worrd'\r\n",
    "' hola \"mundo\" '\r\n",
    "\"hello {}\".format(\"world\")\r\n",
    "\"hello world {17984}\"\r\n",
    "\"hello 'world'\"\r\n",
    "\"hello\\\r\n",
    "world\"\r\n",
    "\"\"\"\r\n",
    "----------------\r\n",
    "Éste es un ejemplo de uso de doc-strings\r\n",
    "como cadenas de texto\r\n",
    ".\r\n",
    ".\r\n",
    ".\r\n",
    "Genial!\r\n",
    "\"\"\"\r\n",
    "r\"hello \\'world\\'\" ## <--- r is for raw"
   ],
   "outputs": [
    {
     "output_type": "execute_result",
     "data": {
      "text/plain": [
       "\"hello \\\\'world\\\\'\""
      ]
     },
     "metadata": {},
     "execution_count": 3
    }
   ],
   "metadata": {}
  },
  {
   "cell_type": "markdown",
   "source": [
    "## Tuplas"
   ],
   "metadata": {}
  },
  {
   "cell_type": "code",
   "execution_count": 3,
   "source": [
    "tup= ( 56,\"Hola!\", 15+18.45j, [1,1,1] )\r\n",
    "()"
   ],
   "outputs": [
    {
     "output_type": "execute_result",
     "data": {
      "text/plain": [
       "()"
      ]
     },
     "metadata": {},
     "execution_count": 3
    }
   ],
   "metadata": {}
  },
  {
   "cell_type": "markdown",
   "source": [
    "## Listas"
   ],
   "metadata": {}
  },
  {
   "cell_type": "code",
   "execution_count": 4,
   "source": [
    "a= [ 56,\"Hola!\", 15+18.45j, [1,1,1] ]\r\n",
    "[14.56]\r\n",
    "[]\r\n",
    "a[0]"
   ],
   "outputs": [
    {
     "output_type": "execute_result",
     "data": {
      "text/plain": [
       "56"
      ]
     },
     "metadata": {},
     "execution_count": 4
    }
   ],
   "metadata": {}
  },
  {
   "cell_type": "markdown",
   "source": [
    "## Diccionarios"
   ],
   "metadata": {}
  },
  {
   "cell_type": "code",
   "execution_count": 10,
   "source": [
    "mydict= {\"uno\":\"valor\",\"dos\":2,3:\"valor\"}\r\n",
    "{}\r\n",
    "print(mydict[\"uno\"])"
   ],
   "outputs": [
    {
     "output_type": "stream",
     "name": "stdout",
     "text": [
      "valor\n"
     ]
    }
   ],
   "metadata": {}
  },
  {
   "cell_type": "markdown",
   "source": [
    "# Sets - conjuntos"
   ],
   "metadata": {}
  },
  {
   "cell_type": "code",
   "execution_count": 11,
   "source": [
    "set([1,5,4,(\"hola\",\"mundo\"),15.3])\r\n",
    "{1,5,4,(\"hola\",\"mundo\"),15.3}"
   ],
   "outputs": [
    {
     "output_type": "execute_result",
     "data": {
      "text/plain": [
       "{('hola', 'mundo'), 1, 15.3, 4, 5}"
      ]
     },
     "metadata": {},
     "execution_count": 11
    }
   ],
   "metadata": {}
  },
  {
   "cell_type": "code",
   "execution_count": null,
   "source": [],
   "outputs": [],
   "metadata": {}
  }
 ],
 "metadata": {
  "kernelspec": {
   "name": "python3",
   "display_name": "Python 3.9.6 64-bit"
  },
  "language_info": {
   "codemirror_mode": {
    "name": "ipython",
    "version": 3
   },
   "file_extension": ".py",
   "mimetype": "text/x-python",
   "name": "python",
   "nbconvert_exporter": "python",
   "pygments_lexer": "ipython3",
   "version": "3.9.6"
  },
  "interpreter": {
   "hash": "6d3363959b53cfe792a5142d94ae973381f9d17b16c83175060b37999ec11eeb"
  }
 },
 "nbformat": 4,
 "nbformat_minor": 4
}