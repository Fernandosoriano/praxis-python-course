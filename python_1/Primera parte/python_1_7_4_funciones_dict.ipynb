{
 "cells": [
  {
   "cell_type": "markdown",
   "source": [
    "# Funciones sobre diccionarios"
   ],
   "metadata": {}
  },
  {
   "cell_type": "code",
   "execution_count": 2,
   "source": [
    "temp_dict= dict( [('uno',2),('tres',4)] )\r\n",
    "print(temp_dict)"
   ],
   "outputs": [
    {
     "output_type": "stream",
     "name": "stdout",
     "text": [
      "{'uno': 2, 'tres': 4}\n"
     ]
    }
   ],
   "metadata": {
    "tags": []
   }
  },
  {
   "cell_type": "code",
   "execution_count": 4,
   "source": [
    "for item,value in zip( [1,2,3,4],['uno','dos','tres','cuatro'] ):\r\n",
    "    print(f\"{item}:{value}\")"
   ],
   "outputs": [
    {
     "output_type": "stream",
     "name": "stdout",
     "text": [
      "1:uno\n",
      "2:dos\n",
      "3:tres\n",
      "4:cuatro\n"
     ]
    }
   ],
   "metadata": {
    "tags": []
   }
  },
  {
   "cell_type": "code",
   "execution_count": 7,
   "source": [
    "for item,value in zip( temp_dict.keys(),temp_dict.values() ):\r\n",
    "    print(f\"{item}:{value}\")\r\n",
    "\r\n",
    "print(zip( temp_dict.keys(),temp_dict.values() ))"
   ],
   "outputs": [
    {
     "output_type": "stream",
     "name": "stdout",
     "text": [
      "uno:2\n",
      "tres:4\n",
      "<zip object at 0x00000101C9C49688>\n"
     ]
    }
   ],
   "metadata": {
    "tags": []
   }
  },
  {
   "cell_type": "code",
   "execution_count": 8,
   "source": [
    "for item,value in temp_dict.items():\r\n",
    "    print(f\"{item}:{value}\")\r\n",
    "print(temp_dict.items())"
   ],
   "outputs": [
    {
     "output_type": "stream",
     "name": "stdout",
     "text": [
      "uno:2\n",
      "tres:4\n",
      "dict_items([('uno', 2), ('tres', 4)])\n"
     ]
    }
   ],
   "metadata": {
    "tags": []
   }
  },
  {
   "cell_type": "code",
   "execution_count": 9,
   "source": [
    "dict_copy= temp_dict.copy()\r\n",
    "dict_copy['uno']= 5\r\n",
    "temp_dict['cinco']= 6\r\n",
    "print(dict_copy)\r\n",
    "print(temp_dict)\r\n",
    "\r\n",
    "# cuando no quiers modificar la data original, pero quieres hacer un análisis, para eso te sirve"
   ],
   "outputs": [
    {
     "output_type": "stream",
     "name": "stdout",
     "text": [
      "{'uno': 5, 'tres': 4}\n",
      "{'uno': 6, 'tres': 4}\n"
     ]
    }
   ],
   "metadata": {
    "tags": []
   }
  },
  {
   "cell_type": "code",
   "execution_count": null,
   "source": [],
   "outputs": [],
   "metadata": {}
  }
 ],
 "metadata": {
  "kernelspec": {
   "display_name": "Python 3",
   "language": "python",
   "name": "python3"
  },
  "language_info": {
   "codemirror_mode": {
    "name": "ipython",
    "version": 3
   },
   "file_extension": ".py",
   "mimetype": "text/x-python",
   "name": "python",
   "nbconvert_exporter": "python",
   "pygments_lexer": "ipython3",
   "version": "3.8.5"
  }
 },
 "nbformat": 4,
 "nbformat_minor": 4
}