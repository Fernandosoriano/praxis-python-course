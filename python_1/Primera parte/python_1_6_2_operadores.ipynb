{
 "cells": [
  {
   "cell_type": "markdown",
   "source": [
    "## Operadores"
   ],
   "metadata": {}
  },
  {
   "cell_type": "markdown",
   "source": [
    "## Aritméticos"
   ],
   "metadata": {}
  },
  {
   "cell_type": "code",
   "execution_count": 1,
   "source": [
    "num = 3+5                ## SUM\r\n",
    "print(f\"result: {num}\")\r\n",
    "num = 5-2                ## RES\r\n",
    "print(f\"result: {num}\")\r\n",
    "num = 5/2                ## DIV\r\n",
    "print(f\"result: {num}\")\r\n",
    "num = 5*3                ## MUL\r\n",
    "print(f\"result: {num}\")\r\n",
    "num = 5**3               ## POT\r\n",
    "print(f\"result: {num}\")\r\n",
    "num = 5//3               ## DIV PISO\r\n",
    "print(f\"result: {num}\")\r\n",
    "num = 5%3                ## MOD\r\n",
    "print(f\"result: {num}\")\r\n",
    "\r\n"
   ],
   "outputs": [
    {
     "output_type": "stream",
     "name": "stdout",
     "text": [
      "result: 8\n",
      "result: 3\n",
      "result: 2.5\n",
      "result: 15\n",
      "result: 125\n",
      "result: 1\n",
      "result: 2\n"
     ]
    }
   ],
   "metadata": {}
  },
  {
   "cell_type": "markdown",
   "source": [
    "## Operaciones por bit"
   ],
   "metadata": {}
  },
  {
   "cell_type": "code",
   "execution_count": 23,
   "source": [
    "\r\n",
    "num = 3&5                ## bit and\r\n",
    "print(f\"result: {num}\")\r\n",
    "num = 5|2                ## bit or\r\n",
    "print(f\"result: {num}\")\r\n",
    "num = 5^2                ## bit xor\r\n",
    "print(f\"result: {num}\")\r\n",
    "num = 128>>3               ## bit positive displacement\r\n",
    "print(f\"result: {num}\")\r\n",
    "num = 8<<3               ## bit negative displacement\r\n",
    "print(f\"result: {num}\")\r\n",
    "num = ~3                 ## negation\r\n",
    "print(f\"result: {num}\")\r\n"
   ],
   "outputs": [
    {
     "output_type": "stream",
     "name": "stdout",
     "text": [
      "result: 1\n",
      "result: 7\n",
      "result: 7\n",
      "result: 16\n",
      "result: 64\n",
      "result: -4\n"
     ]
    }
   ],
   "metadata": {}
  },
  {
   "cell_type": "markdown",
   "source": [
    "## Comparativos\n"
   ],
   "metadata": {}
  },
  {
   "cell_type": "code",
   "execution_count": 3,
   "source": [
    "True | False\r\n",
    "\r\n",
    "num = 3==5                ## igual\r\n",
    "print(f\"result: {num}\")\r\n",
    "num = 5>=2                ## mayor o igual\r\n",
    "print(f\"result: {num}\")\r\n",
    "num = 5<=2                ## menor o igual\r\n",
    "print(f\"result: {num}\")\r\n",
    "num = 5<3                 ## menor\r\n",
    "print(f\"result: {num}\")\r\n",
    "num = 5>3                 ## mayor\r\n",
    "print(f\"result: {num}\")\r\n",
    "num = 5!=3                ## diferente\r\n",
    "print(f\"result: {num}\")\r\n"
   ],
   "outputs": [
    {
     "output_type": "stream",
     "name": "stdout",
     "text": [
      "result: False\n",
      "result: True\n",
      "result: False\n",
      "result: False\n",
      "result: True\n"
     ]
    }
   ],
   "metadata": {}
  },
  {
   "cell_type": "markdown",
   "source": [
    "## Asignación"
   ],
   "metadata": {}
  },
  {
   "cell_type": "code",
   "execution_count": 9,
   "source": [
    "num = 10\r\n",
    "num +=5                ## SUM\r\n",
    "print(f\"result: {num}\")\r\n",
    "num -=2                ## RES\r\n",
    "print(f\"result: {num}\")\r\n",
    "num /=2                ## DIV\r\n",
    "print(f\"result: {num}\")\r\n",
    "num *=3                ## MUL\r\n",
    "print(f\"result: {num}\")\r\n",
    "num **=3               ## POT\r\n",
    "print(f\"result: {num}\")\r\n",
    "num //=3               ## DIV PISO\r\n",
    "print(f\"result: {num}\")\r\n",
    "num %=3                ## MOD\r\n",
    "print(f\"result: {num}\")\r\n",
    "print(\"BITS------------\")\r\n",
    "num = 128\r\n",
    "num &=127                ## Bit and\r\n",
    "print(f\"result: {num}\")\r\n",
    "num |=64                ## Bit or\r\n",
    "print(f\"result: {num}\")\r\n",
    "num ^=8                ## Bit Xor\r\n",
    "print(f\"result: {num}\")\r\n",
    "num <<=3               ## bit negative displacement\r\n",
    "print(f\"result: {num}\")\r\n",
    "num >>=3               ## bit positive displacement"
   ],
   "outputs": [
    {
     "output_type": "stream",
     "name": "stdout",
     "text": [
      "result: 15\n",
      "result: 13\n",
      "result: 6.5\n",
      "result: 19.5\n",
      "result: 7414.875\n",
      "result: 2471.0\n",
      "result: 2.0\n",
      "BITS------------\n",
      "result: 0\n",
      "result: 64\n",
      "result: 72\n",
      "result: 576\n"
     ]
    }
   ],
   "metadata": {}
  },
  {
   "cell_type": "markdown",
   "source": [
    "## Logicos"
   ],
   "metadata": {}
  },
  {
   "cell_type": "code",
   "execution_count": 4,
   "source": [
    "num = False and True               ## and\r\n",
    "print(f\"result: {num}\")\r\n",
    "num = False or True                ## or\r\n",
    "print(f\"result: {num}\")\r\n",
    "num = not True                 ## not\r\n",
    "print(f\"result: {num}\")\r\n"
   ],
   "outputs": [
    {
     "output_type": "stream",
     "name": "stdout",
     "text": [
      "result: False\n",
      "result: True\n",
      "result: False\n"
     ]
    }
   ],
   "metadata": {}
  },
  {
   "cell_type": "markdown",
   "source": [
    "## identidad"
   ],
   "metadata": {}
  },
  {
   "cell_type": "code",
   "execution_count": 17,
   "source": [
    "num_1 = 4 ##0x123         \r\n",
    "num_2 = 5 ##0x521\r\n",
    "num_3 = num_1 ##0x512\r\n",
    "\r\n",
    "res = num_1 is num_3       ## is\r\n",
    "print(f\"result: {res}\")\r\n",
    "res = num_1 is not num_2   ## is not\r\n",
    "print(f\"result: {num}\")"
   ],
   "outputs": [
    {
     "output_type": "stream",
     "name": "stdout",
     "text": [
      "result: True\n",
      "result: True\n"
     ]
    }
   ],
   "metadata": {}
  },
  {
   "cell_type": "markdown",
   "source": [
    "## pertenencia"
   ],
   "metadata": {}
  },
  {
   "cell_type": "code",
   "execution_count": 3,
   "source": [
    "num_1 = 1               \r\n",
    "num_2 = [1,1,1,1,1,0,9,8,7,9,8,7]\r\n",
    "num_3 = [1,1,1,1,1,0,9,8,7,9,8,7]\r\n",
    "\r\n",
    "res = num_1 in num_3       ## in\r\n",
    "print(f\"result: {res}\")\r\n",
    "res = num_1 not in num_2   ## not in\r\n",
    "print(f\"result: {res}\")"
   ],
   "outputs": [
    {
     "output_type": "stream",
     "name": "stdout",
     "text": [
      "result: True\n",
      "result: False\n"
     ]
    }
   ],
   "metadata": {}
  },
  {
   "cell_type": "code",
   "execution_count": null,
   "source": [],
   "outputs": [],
   "metadata": {}
  }
 ],
 "metadata": {
  "kernelspec": {
   "name": "python3",
   "display_name": "Python 3.9.6 64-bit"
  },
  "language_info": {
   "codemirror_mode": {
    "name": "ipython",
    "version": 3
   },
   "file_extension": ".py",
   "mimetype": "text/x-python",
   "name": "python",
   "nbconvert_exporter": "python",
   "pygments_lexer": "ipython3",
   "version": "3.9.6"
  },
  "interpreter": {
   "hash": "6d3363959b53cfe792a5142d94ae973381f9d17b16c83175060b37999ec11eeb"
  }
 },
 "nbformat": 4,
 "nbformat_minor": 4
}