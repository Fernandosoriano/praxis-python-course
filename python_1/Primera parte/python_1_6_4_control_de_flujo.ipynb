{
 "cells": [
  {
   "cell_type": "markdown",
   "source": [
    "# Sentencias de control"
   ],
   "metadata": {}
  },
  {
   "cell_type": "markdown",
   "source": [
    "## if - elif - else"
   ],
   "metadata": {}
  },
  {
   "cell_type": "code",
   "execution_count": 1,
   "source": [
    "a= \"rojo\"\r\n",
    "if a == \"verde\":\r\n",
    "    print(\"HULK!\")\r\n",
    "elif(a == \"azul\"):\r\n",
    "    print(\"Capitan!\")\r\n",
    "elif(a == \"rojo\"):\r\n",
    "    print(\"IRONMAN!\")\r\n",
    "else:\r\n",
    "    print(\"HELP ME!\")"
   ],
   "outputs": [
    {
     "output_type": "stream",
     "name": "stdout",
     "text": [
      "IRONMAN!\n"
     ]
    }
   ],
   "metadata": {}
  },
  {
   "cell_type": "markdown",
   "source": [
    "## while"
   ],
   "metadata": {}
  },
  {
   "cell_type": "code",
   "execution_count": 1,
   "source": [
    "import time\r\n",
    "life = 100\r\n",
    "poison_damage_per_sec = 10\r\n",
    "while(life>0):\r\n",
    "    print(f\"your life is: {life}\")\r\n",
    "    if(life<=20):\r\n",
    "        print(\"%%% CRITIC HEALTH! %%%%\")\r\n",
    "    life-=poison_damage_per_sec\r\n",
    "    time.sleep(1)\r\n",
    "print(\"you are dead!\")"
   ],
   "outputs": [
    {
     "output_type": "stream",
     "name": "stdout",
     "text": [
      "your life is: 100\n",
      "your life is: 90\n",
      "your life is: 80\n",
      "your life is: 70\n",
      "your life is: 60\n",
      "your life is: 50\n",
      "your life is: 40\n",
      "your life is: 30\n",
      "your life is: 20\n",
      "%%% CRITIC HEALTH! %%%%\n",
      "your life is: 10\n",
      "%%% CRITIC HEALTH! %%%%\n",
      "you are dead!\n"
     ]
    }
   ],
   "metadata": {}
  },
  {
   "cell_type": "markdown",
   "source": [
    "## For"
   ],
   "metadata": {}
  },
  {
   "cell_type": "code",
   "execution_count": 2,
   "source": [
    "# for (int i=0;i<10;i++){\r\n",
    "    \r\n",
    "# }\r\n",
    "car = [\r\n",
    "    \"##__##\",\r\n",
    "    \"__##__\",\r\n",
    "    \"__##__\",\r\n",
    "    \"######\",\r\n",
    "    \"__##__\"\r\n",
    "]\r\n",
    "for row in car:\r\n",
    "    for char in row:\r\n",
    "        print(char)\r\n",
    "        \r\n",
    "for row in range(10):## [0,1,2,3,4,5,6,7,8,9]\r\n",
    "    print(row)"
   ],
   "outputs": [
    {
     "output_type": "stream",
     "name": "stdout",
     "text": [
      "#\n",
      "#\n",
      "_\n",
      "_\n",
      "#\n",
      "#\n",
      "_\n",
      "_\n",
      "#\n",
      "#\n",
      "_\n",
      "_\n",
      "_\n",
      "_\n",
      "#\n",
      "#\n",
      "_\n",
      "_\n",
      "#\n",
      "#\n",
      "#\n",
      "#\n",
      "#\n",
      "#\n",
      "_\n",
      "_\n",
      "#\n",
      "#\n",
      "_\n",
      "_\n",
      "0\n",
      "1\n",
      "2\n",
      "3\n",
      "4\n",
      "5\n",
      "6\n",
      "7\n",
      "8\n",
      "9\n"
     ]
    }
   ],
   "metadata": {}
  },
  {
   "cell_type": "markdown",
   "source": [
    "## break - continue - else_loop"
   ],
   "metadata": {}
  },
  {
   "cell_type": "code",
   "execution_count": 4,
   "source": [
    "colors=[\"rojo\",\"verde\",\"amarillo\",\"azul\",\"morado\",\"neguro\",\"blanco\"]\r\n",
    "####################################\r\n",
    "for color in colors:\r\n",
    "    if color == \"verde\":\r\n",
    "        continue\r\n",
    "    elif color == \"negro\":\r\n",
    "        print(\"we've find it!!!\")\r\n",
    "        break\r\n",
    "    else:\r\n",
    "        print(color)\r\n",
    "else:\r\n",
    "    print(\"we haven't found it!!!\")\r\n",
    "print(\"%%%%%%%%%%%%%%%%%%%%%\")\r\n",
    "####################################\r\n",
    "for color in colors:\r\n",
    "    if color == \"verde\":\r\n",
    "        continue\r\n",
    "    elif color == \"cafe\":\r\n",
    "        break\r\n",
    "    else:\r\n",
    "        print(color)\r\n",
    "else:\r\n",
    "    print(\"we haven't found it!!!\")\r\n",
    "    \r\n",
    "    "
   ],
   "outputs": [
    {
     "output_type": "stream",
     "name": "stdout",
     "text": [
      "rojo\n",
      "amarillo\n",
      "azul\n",
      "morado\n",
      "neguro\n",
      "blanco\n",
      "we haven't found it!!!\n",
      "%%%%%%%%%%%%%%%%%%%%%\n",
      "rojo\n",
      "amarillo\n",
      "azul\n",
      "morado\n",
      "neguro\n",
      "blanco\n",
      "we haven't found it!!!\n"
     ]
    }
   ],
   "metadata": {}
  },
  {
   "cell_type": "markdown",
   "source": [
    "## pass"
   ],
   "metadata": {}
  },
  {
   "cell_type": "code",
   "execution_count": 5,
   "source": [
    "## la funcion no hace nada, pero es necesario pass para que la falta de\r\n",
    "## contenido en la funcion no sea marcada como un error\r\n",
    "def temp_func():\r\n",
    "    pass"
   ],
   "outputs": [],
   "metadata": {}
  },
  {
   "cell_type": "markdown",
   "source": [
    "## funciones"
   ],
   "metadata": {}
  },
  {
   "cell_type": "code",
   "execution_count": 5,
   "source": [
    "# elementos con un * son almacenados en un vector, y con dos en un dicccionario\r\n",
    "def fib(o=10,*argv,**kargv):\r\n",
    "    a,b = 0,1\r\n",
    "    print(argv)\r\n",
    "    print(kargv)\r\n",
    "    while a<o:\r\n",
    "        print(a)\r\n",
    "        a,b = b,a+b\r\n",
    "\r\n",
    "fib(5,5,6,7,8,j=5,l=6,m=7)\r\n",
    "print(\"%%%%%%\")\r\n",
    "fib(2)\r\n",
    "print(\"%%%%%%\")\r\n",
    "fib(150,n=150)\r\n",
    "print(\"%%%%%%\")\r\n"
   ],
   "outputs": [
    {
     "output_type": "stream",
     "name": "stdout",
     "text": [
      "(5, 6, 7, 8)\n",
      "{'j': 5, 'l': 6, 'm': 7}\n",
      "0\n",
      "1\n",
      "1\n",
      "2\n",
      "3\n",
      "%%%%%%\n",
      "()\n",
      "{}\n",
      "0\n",
      "1\n",
      "1\n",
      "%%%%%%\n",
      "()\n",
      "{'n': 150}\n",
      "0\n",
      "1\n",
      "1\n",
      "2\n",
      "3\n",
      "5\n",
      "8\n",
      "13\n",
      "21\n",
      "34\n",
      "55\n",
      "89\n",
      "144\n",
      "%%%%%%\n"
     ]
    }
   ],
   "metadata": {}
  },
  {
   "cell_type": "markdown",
   "source": [
    "## lambda expressions"
   ],
   "metadata": {}
  },
  {
   "cell_type": "code",
   "execution_count": 12,
   "source": [
    "f = lambda x: 5*x*x + 3*x + 2\n",
    "print(f(10)) ##### 5*100 + 3*10 + 2 = 532"
   ],
   "outputs": [
    {
     "output_type": "stream",
     "name": "stdout",
     "text": [
      "532\n"
     ]
    }
   ],
   "metadata": {}
  },
  {
   "cell_type": "markdown",
   "source": [],
   "metadata": {}
  }
 ],
 "metadata": {
  "kernelspec": {
   "display_name": "Python 3",
   "language": "python",
   "name": "python3"
  },
  "language_info": {
   "codemirror_mode": {
    "name": "ipython",
    "version": 3
   },
   "file_extension": ".py",
   "mimetype": "text/x-python",
   "name": "python",
   "nbconvert_exporter": "python",
   "pygments_lexer": "ipython3",
   "version": "3.8.5"
  }
 },
 "nbformat": 4,
 "nbformat_minor": 4
}