{
 "cells": [
  {
   "cell_type": "markdown",
   "source": [
    "# Clases\n"
   ],
   "metadata": {}
  },
  {
   "cell_type": "code",
   "execution_count": 7,
   "source": [
    "class example:\r\n",
    "    \"\"\"this class does'nt do nathing\r\n",
    "    \"\"\"\r\n",
    "    ## PUBLIC ATTRIBUTES\r\n",
    "    attribute_0= 0\r\n",
    "    ## PROTECTED ATTRIBUTES\r\n",
    "    _attribute_1= 0\r\n",
    "    ## PRIVATE ATTRIBUTES\r\n",
    "    __attribute_2= 0\r\n",
    "\r\n",
    "    def __init__(self):\r\n",
    "        \"\"\"el contructor no hace nada\r\n",
    "        Parameters\r\n",
    "        ----------\r\n",
    "            a:\r\n",
    "                type: str\r\n",
    "                des: es una variable sin sentido\r\n",
    "        Returns\r\n",
    "        -------\r\n",
    "            None\r\n",
    "        \"\"\"\r\n",
    "        pass\r\n",
    "    # decorador para añadir funcionalidad\r\n",
    "    @staticmethod\r\n",
    "    def function_3():\r\n",
    "        print(\"function_0 from example class\")\r\n",
    "    \r\n",
    "    ## -----------------------\r\n",
    "    ## PUBLIC METHODS\r\n",
    "    def function_0(self):\r\n",
    "        print(\"function_0 from example class\")\r\n",
    "    ## PROTECTED METHOD\r\n",
    "    def _function_1(self):\r\n",
    "        pass\r\n",
    "    ## PRIVATE METHOD\r\n",
    "    def __function_2(self):\r\n",
    "        pass\r\n",
    "    ## ------------------------\r\n",
    "    ## PREBUILD FUNCTIONS\r\n",
    "    def __init__(self):\r\n",
    "        pass\r\n",
    "    #print(obj)\r\n",
    "    def __str__(self):\r\n",
    "        pass #self.nombre\r\n",
    "    ## .\r\n",
    "    ## .\r\n",
    "    ## .\r\n",
    "\r\n",
    "example.function_3()\r\n",
    "obj= example()\r\n",
    "obj.function_0()\r\n"
   ],
   "outputs": [
    {
     "output_type": "stream",
     "name": "stdout",
     "text": [
      "function_0 from example class\n",
      "function_0 from example class\n"
     ]
    }
   ],
   "metadata": {}
  },
  {
   "cell_type": "markdown",
   "source": [
    "## Uso de las clases"
   ],
   "metadata": {}
  },
  {
   "cell_type": "code",
   "execution_count": 8,
   "source": [
    "temp_obj= example() ## call of __init__()\r\n",
    "## call of method\r\n",
    "temp_obj._function_1()\r\n",
    "## access to attribute\r\n",
    "print(f\"the value of the data is:- {temp_obj.attribute_0}\")"
   ],
   "outputs": [
    {
     "output_type": "stream",
     "name": "stdout",
     "text": [
      "the value of the data is:- 0\n"
     ]
    }
   ],
   "metadata": {}
  },
  {
   "cell_type": "markdown",
   "source": [
    "## Herencia\n"
   ],
   "metadata": {}
  },
  {
   "cell_type": "code",
   "execution_count": 9,
   "source": [
    "class example_1( example ):\r\n",
    "    def __init__(self):\r\n",
    "        # constructor de la clase padre con suer\r\n",
    "        super().__init__() \r\n",
    "\r\n",
    "\r\n",
    "temp_obj_1= example_1() ## call of __init__()\r\n",
    "## call of method\r\n",
    "temp_obj_1.function_0()\r\n",
    "## access to attribute\r\n",
    "print(f\"the value of the data is:- {temp_obj.attribute_0}\")\r\n"
   ],
   "outputs": [
    {
     "output_type": "stream",
     "name": "stdout",
     "text": [
      "function_0 from example class\n",
      "the value of the data is:- 0\n"
     ]
    }
   ],
   "metadata": {}
  },
  {
   "cell_type": "code",
   "execution_count": 10,
   "source": [
    "temp_obj_1._function_1()"
   ],
   "outputs": [],
   "metadata": {}
  },
  {
   "cell_type": "markdown",
   "source": [
    "## polimorfismo"
   ],
   "metadata": {}
  },
  {
   "cell_type": "code",
   "execution_count": 11,
   "source": [
    "def execute_function( arg:example ):\n",
    "    arg.function_0()\n",
    "\n",
    "execute_function(temp_obj_1)"
   ],
   "outputs": [
    {
     "output_type": "stream",
     "name": "stdout",
     "text": [
      "function_0 from example class\n"
     ]
    }
   ],
   "metadata": {}
  },
  {
   "cell_type": "code",
   "execution_count": 13,
   "source": [
    "class example_2(example):\n",
    "    def __init__(self):\n",
    "        pass\n",
    "    \n",
    "    def poly_function_0(self,argument:int):\n",
    "        print(type(argument))\n",
    "        print(\"function 0_0\")\n",
    "        \n",
    "    def poly_function_0(self,argument_0:str,argument_1:float):\n",
    "        print(type(argument_0))\n",
    "        print(type(argument_1))\n",
    "        print(\"function_0_1\")\n",
    "        \n",
    "    def poly_function_1(self,*argv,**kvargs):\n",
    "        print(\"ARGV---\")\n",
    "        for item in argv:\n",
    "            print(type(item))\n",
    "        print(\"KVARGV\")\n",
    "        for key,value in kvargs.items():\n",
    "            print(f\"{key}:{type((value))}\")\n",
    "\n",
    "temp_obj_2= example_2()\n",
    "\n",
    "temp_obj_2.poly_function_0(123456)\n",
    "temp_obj_2.poly_function_0(\"hola\",0.9876)\n"
   ],
   "outputs": [
    {
     "output_type": "error",
     "ename": "TypeError",
     "evalue": "poly_function_0() missing 1 required positional argument: 'argument_1'",
     "traceback": [
      "\u001b[1;31m---------------------------------------------------------------------------\u001b[0m",
      "\u001b[1;31mTypeError\u001b[0m                                 Traceback (most recent call last)",
      "\u001b[1;32m<ipython-input-13-5b5f781b972f>\u001b[0m in \u001b[0;36m<module>\u001b[1;34m\u001b[0m\n\u001b[0;32m     22\u001b[0m \u001b[0mtemp_obj_2\u001b[0m\u001b[1;33m=\u001b[0m \u001b[0mexample_2\u001b[0m\u001b[1;33m(\u001b[0m\u001b[1;33m)\u001b[0m\u001b[1;33m\u001b[0m\u001b[1;33m\u001b[0m\u001b[0m\n\u001b[0;32m     23\u001b[0m \u001b[1;33m\u001b[0m\u001b[0m\n\u001b[1;32m---> 24\u001b[1;33m \u001b[0mtemp_obj_2\u001b[0m\u001b[1;33m.\u001b[0m\u001b[0mpoly_function_0\u001b[0m\u001b[1;33m(\u001b[0m\u001b[1;36m123456\u001b[0m\u001b[1;33m)\u001b[0m\u001b[1;33m\u001b[0m\u001b[1;33m\u001b[0m\u001b[0m\n\u001b[0m\u001b[0;32m     25\u001b[0m \u001b[0mtemp_obj_2\u001b[0m\u001b[1;33m.\u001b[0m\u001b[0mpoly_function_0\u001b[0m\u001b[1;33m(\u001b[0m\u001b[1;34m\"hola\"\u001b[0m\u001b[1;33m,\u001b[0m\u001b[1;36m0.9876\u001b[0m\u001b[1;33m)\u001b[0m\u001b[1;33m\u001b[0m\u001b[1;33m\u001b[0m\u001b[0m\n",
      "\u001b[1;31mTypeError\u001b[0m: poly_function_0() missing 1 required positional argument: 'argument_1'"
     ]
    }
   ],
   "metadata": {}
  },
  {
   "cell_type": "code",
   "execution_count": 24,
   "source": [
    "temp_obj_2.poly_function_1(\"hola\",0.0542,55904,879+98j,i=\"hola\",j=980,k=87.0978,l=608+987j)"
   ],
   "outputs": [
    {
     "output_type": "stream",
     "name": "stdout",
     "text": [
      "ARGV---\n",
      "<class 'str'>\n",
      "<class 'float'>\n",
      "<class 'int'>\n",
      "<class 'complex'>\n",
      "KVARGV\n",
      "i:<class 'str'>\n",
      "j:<class 'int'>\n",
      "k:<class 'float'>\n",
      "l:<class 'complex'>\n"
     ]
    }
   ],
   "metadata": {}
  },
  {
   "cell_type": "code",
   "execution_count": null,
   "source": [],
   "outputs": [],
   "metadata": {}
  }
 ],
 "metadata": {
  "kernelspec": {
   "display_name": "Python 3",
   "language": "python",
   "name": "python3"
  },
  "language_info": {
   "codemirror_mode": {
    "name": "ipython",
    "version": 3
   },
   "file_extension": ".py",
   "mimetype": "text/x-python",
   "name": "python",
   "nbconvert_exporter": "python",
   "pygments_lexer": "ipython3",
   "version": "3.8.5"
  }
 },
 "nbformat": 4,
 "nbformat_minor": 4
}