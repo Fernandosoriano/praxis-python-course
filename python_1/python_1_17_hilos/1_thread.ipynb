{
 "cells": [
  {
   "cell_type": "markdown",
   "metadata": {},
   "source": [
    "# Threads\n",
    "## Basic use"
   ]
  },
  {
   "cell_type": "code",
   "execution_count": 1,
   "metadata": {
    "tags": []
   },
   "outputs": [
    {
     "name": "stdout",
     "output_type": "stream",
     "text": [
      "--------alpha starting--------\n",
      "--------beta starting--------\n",
      "--------gamma starting--------\n",
      "--------etha starting--------\n",
      "--------iota starting--------\n",
      "main process end!\n",
      "mi name is alpha!, good to see ya!\tSat Mar 13 13:03:18 2021mi name is beta!, good to see ya!\tSat Mar 13 13:03:18 2021\n",
      "\n",
      "mi name is gamma!, good to see ya!\tSat Mar 13 13:03:18 2021\n",
      "mi name is etha!, good to see ya!\tSat Mar 13 13:03:19 2021mi name is iota!, good to see ya!\tSat Mar 13 13:03:19 2021\n",
      "\n"
     ]
    }
   ],
   "source": [
    "import threading\n",
    "from random import randint\n",
    "import time\n",
    "\n",
    "_threads= []\n",
    "\n",
    "def print_name(name):\n",
    "    print(f\"--------{name} starting--------\")\n",
    "    time.sleep(randint(0,3)) \n",
    "    print(f\"mi name is {name}!, good to see ya!\\t{time.ctime()}\")\n",
    "\n",
    "def throw_threads_0():\n",
    "    _threads=[]\n",
    "    thread_names= ['alpha','beta','gamma','etha','iota']\n",
    "    for item in thread_names:\n",
    "        _temp_thread= threading.Thread(target=print_name,args=(item,))\n",
    "        _threads.append(_temp_thread)\n",
    "        _temp_thread.start()\n",
    "    print(\"main process end!\")\n",
    "\n",
    "throw_threads_0()"
   ]
  },
  {
   "cell_type": "markdown",
   "metadata": {},
   "source": [
    "## JOIN"
   ]
  },
  {
   "cell_type": "code",
   "execution_count": 44,
   "metadata": {
    "tags": []
   },
   "outputs": [
    {
     "name": "stdout",
     "output_type": "stream",
     "text": [
      "--------alpha starting--------\n",
      "mi name is alpha!, good to see ya!\tWed Aug 19 14:31:13 2020\n",
      "--------beta starting--------\n",
      "--------gamma starting--------\n",
      "--------etha starting--------\n",
      "--------iota starting--------\n",
      "mi name is gamma!, good to see ya!\tWed Aug 19 14:31:14 2020\n",
      "mi name is beta!, good to see ya!\tWed Aug 19 14:31:15 2020\n",
      "mi name is etha!, good to see ya!\tWed Aug 19 14:31:15 2020\n",
      "mi name is iota!, good to see ya!\tWed Aug 19 14:31:16 2020\n",
      "main process end!\n"
     ]
    }
   ],
   "source": [
    "def throw_threads_1():\n",
    "    _threads=[]\n",
    "    thread_names= ['alpha','beta','gamma','etha','iota']\n",
    "    for item in thread_names:\n",
    "        _temp_thread= threading.Thread(target=print_name,args=(item,))\n",
    "        _threads.append(_temp_thread)\n",
    "        _temp_thread.start()\n",
    "\n",
    "    for _thread in _threads:\n",
    "        _thread.join()\n",
    "    print(\"main process end!\")\n",
    "    \n",
    "\n",
    "throw_threads_1()"
   ]
  },
  {
   "cell_type": "markdown",
   "metadata": {},
   "source": [
    "## DAEMON"
   ]
  },
  {
   "cell_type": "code",
   "execution_count": 3,
   "metadata": {
    "tags": []
   },
   "outputs": [
    {
     "name": "stdout",
     "output_type": "stream",
     "text": [
      "--------alpha starting--------\n",
      "mi name is alpha!, good to see ya!\tSat Mar 13 13:07:19 2021\n",
      "--------beta starting--------\n",
      "--------gamma starting--------\n",
      "--------etha starting--------\n",
      "--------iota starting--------\n",
      "mi name is iota!, good to see ya!\tSat Mar 13 13:07:19 2021\n",
      "mi name is etha!, good to see ya!\tSat Mar 13 13:07:19 2021\n",
      "mi name is gamma!, good to see ya!\tSat Mar 13 13:07:20 2021\n",
      "mi name is beta!, good to see ya!\tSat Mar 13 13:07:22 2021\n",
      "main process end!\n"
     ]
    }
   ],
   "source": [
    "def throw_threads_2():\n",
    "    _threads=[]\n",
    "    thread_names= ['alpha','beta','gamma','etha','iota']\n",
    "    for item in thread_names:\n",
    "        _temp_thread= threading.Thread(target=print_name,args=(item,), daemon=True)\n",
    "        _threads.append(_temp_thread)\n",
    "        _temp_thread.start()\n",
    "    for _thread in _threads:\n",
    "        _thread.join()\n",
    "    print(\"main process end!\")\n",
    "    \n",
    "\n",
    "throw_threads_2()"
   ]
  },
  {
   "cell_type": "markdown",
   "metadata": {},
   "source": [
    "## one value for all threads"
   ]
  },
  {
   "cell_type": "code",
   "execution_count": 4,
   "metadata": {
    "tags": []
   },
   "outputs": [
    {
     "name": "stdout",
     "output_type": "stream",
     "text": [
      "alpha init!\n",
      "beta init!\n",
      "gamma init!\n",
      "etha init!\n",
      "iota init!end of the main process\n",
      "\n",
      "1. alpha:- \tactual value of var is 0, good luck!1. beta:- \tactual value of var is 0, good luck!\n",
      "\n",
      " 2. beta:- \tactual value of var is 2, good luck!\n",
      "1. gamma:- \tactual value of var is 2, good luck!\n",
      "1. iota:- \tactual value of var is 3, good luck!\n",
      " 2. alpha:- \tactual value of var is 4, good luck!\n",
      "1. etha:- \tactual value of var is 4, good luck!\n",
      " 2. iota:- \tactual value of var is 5, good luck!\n",
      " 2. etha:- \tactual value of var is 5, good luck!\n",
      " 2. gamma:- \tactual value of var is 5, good luck!\n"
     ]
    }
   ],
   "source": [
    "import threading\n",
    "import time\n",
    "from random import randint\n",
    "\n",
    "class db_value:\n",
    "    def __init__(self):\n",
    "        self.var = 0\n",
    "    def update(self):\n",
    "        self.var+=1\n",
    "\n",
    "    def get(self):\n",
    "        return self.var\n",
    "\n",
    "def update_var(name,_temp_val):\n",
    "    print(f\"{name} init!\")\n",
    "    time.sleep(randint(1,3))\n",
    "    print(f\"1. {name}:- \\tactual value of var is {_temp_val.get()}, good luck!\")\n",
    "    _temp_val.update()\n",
    "    time.sleep(randint(1,3))\n",
    "    print(f\" 2. {name}:- \\tactual value of var is {_temp_val.get()}, good luck!\")\n",
    "\n",
    "\n",
    "def throw_thread_3():\n",
    "    thread_names= ['alpha','beta','gamma','etha','iota']\n",
    "    _threads=[]\n",
    "    temp_val= db_value()\n",
    "    for item in thread_names:\n",
    "        _temp_thread= threading.Thread(target=update_var,args=(item,temp_val,), daemon=True)\n",
    "        _threads.append(_temp_thread)\n",
    "        _temp_thread.start()\n",
    "#     for _thread in _threads:\n",
    "#         _thread.join()\n",
    "    print(\"end of the main process\")\n",
    "\n",
    "throw_thread_3()"
   ]
  },
  {
   "cell_type": "code",
   "execution_count": 5,
   "metadata": {
    "tags": []
   },
   "outputs": [
    {
     "name": "stdout",
     "output_type": "stream",
     "text": [
      "alpha init!\n",
      "beta init!\n",
      "gamma init!etha init!\n",
      "\n",
      "iota init!end of the main process\n",
      "\n"
     ]
    }
   ],
   "source": [
    "class db_value:\n",
    "    def __init__(self):\n",
    "        self.var = 0\n",
    "    def update(self):\n",
    "        with threading.Lock():\n",
    "            self.var+=1\n",
    "\n",
    "    def get(self):\n",
    "        return self.var\n",
    "\n",
    "throw_thread_3()"
   ]
  },
  {
   "cell_type": "code",
   "execution_count": null,
   "metadata": {},
   "outputs": [],
   "source": []
  }
 ],
 "metadata": {
  "kernelspec": {
   "display_name": "Python 3",
   "language": "python",
   "name": "python3"
  },
  "language_info": {
   "codemirror_mode": {
    "name": "ipython",
    "version": 3
   },
   "file_extension": ".py",
   "mimetype": "text/x-python",
   "name": "python",
   "nbconvert_exporter": "python",
   "pygments_lexer": "ipython3",
   "version": "3.8.5"
  }
 },
 "nbformat": 4,
 "nbformat_minor": 4
}
