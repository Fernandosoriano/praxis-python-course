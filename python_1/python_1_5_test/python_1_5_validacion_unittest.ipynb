{
 "cells": [
  {
   "cell_type": "markdown",
   "source": [
    "# Validacion de ejecucion con unittest"
   ],
   "metadata": {}
  },
  {
   "cell_type": "markdown",
   "source": [
    "## El código "
   ],
   "metadata": {}
  },
  {
   "cell_type": "code",
   "execution_count": 1,
   "source": [
    "def is_primo(numero):\r\n",
    "    temp_numero = numero\r\n",
    "    while(temp_numero>0):\r\n",
    "        if(temp_numero!=numero and temp_numero!=1):\r\n",
    "            if (numero%temp_numero==0):\r\n",
    "                return False\r\n",
    "        temp_numero-=1\r\n",
    "    return True \r\n",
    "\r\n",
    "def get_next_primo(current):\r\n",
    "    temp_numero= current+1\r\n",
    "    while True:\r\n",
    "        if(is_primo(temp_numero)):\r\n",
    "            return temp_numero\r\n",
    "            break\r\n",
    "        temp_numero +=1\r\n",
    "\r\n",
    "def primos(numero):\r\n",
    "    result = []\r\n",
    "    last_primo = 0\r\n",
    "    for num in range(numero):\r\n",
    "        last_primo = get_next_primo(last_primo)\r\n",
    "        result.append(last_primo)\r\n",
    "    return result\r\n",
    "\r\n",
    "if __name__ == \"__main__\":\r\n",
    "    primos_n = primos(10)\r\n",
    "    print(primos_n)\r\n",
    "        "
   ],
   "outputs": [
    {
     "output_type": "stream",
     "name": "stdout",
     "text": [
      "[1, 2, 3, 5, 7, 11, 13, 17, 19, 23]\n"
     ]
    }
   ],
   "metadata": {
    "tags": []
   }
  },
  {
   "cell_type": "markdown",
   "source": [
    "## La validación"
   ],
   "metadata": {}
  },
  {
   "cell_type": "code",
   "execution_count": 2,
   "source": [
    "import unittest ## pip install unittest2\r\n",
    "class TestProc(unittest.TestCase):\r\n",
    "    def test_primo(self):\r\n",
    "        self.assertEqual(primos(10),[1, 2, 3, 5, 7, 11, 13, 17, 19, 23])\r\n",
    "        \r\n",
    "if __name__ == \"__main__\":\r\n",
    "    unittest.main()"
   ],
   "outputs": [],
   "metadata": {}
  },
  {
   "cell_type": "markdown",
   "source": [
    "    Se muestra la sencilles con la que se puede automatizar la verificación  del funcionamiento de nuestro \n",
    "    código, que aunque hay herramientas mucho más robustas para dicha tarea, este paquete nos provee de una\n",
    "    facil e inmediata implementación.\n",
    "______________\n",
    "### Resultado de ejecución válida\n",
    "\n",
    "    .....\n",
    "    ----------------------------------------------------------------------\n",
    "    Ran 5 tests in 0.001s\n",
    "\n",
    "    OK\n",
    "______________\n",
    "### Resultado de ejecución no exitosa\n",
    "\n",
    "    F...\n",
    "    ======================================================================\n",
    "    FAIL: test_primo (__main__.TestProc)\n",
    "    ----------------------------------------------------------------------\n",
    "    Traceback (most recent call last):\n",
    "    File \"unittest_example.py\", line 22, in test_primo\n",
    "    self.assertEqual(primos(10),[1, 2, 3, 5, 7, 11, 13, 17, 19, 29])\n",
    "    AssertionError: Lists differ: [1, 2, 3, 5, 7, 11, 13, 17, 19, 23] != [1, 2, 3, 5, 7, 11, 13, 17, 19, 29]\n",
    "\n",
    "    First differing element 9:\n",
    "    23\n",
    "    29\n",
    "\n",
    "    - [1, 2, 3, 5, 7, 11, 13, 17, 19, 23]\n",
    "    ?                                  ^\n",
    "\n",
    "    + [1, 2, 3, 5, 7, 11, 13, 17, 19, 29]\n",
    "    ?                                  ^\n",
    "\n",
    "\n",
    "    ----------------------------------------------------------------------\n",
    "    Ran 4 tests in 0.002s\n",
    "\n",
    "    FAILED (failures=1)"
   ],
   "metadata": {}
  },
  {
   "cell_type": "code",
   "execution_count": null,
   "source": [],
   "outputs": [],
   "metadata": {}
  }
 ],
 "metadata": {
  "kernelspec": {
   "name": "python3",
   "display_name": "Python 3.9.6 64-bit"
  },
  "language_info": {
   "codemirror_mode": {
    "name": "ipython",
    "version": 3
   },
   "file_extension": ".py",
   "mimetype": "text/x-python",
   "name": "python",
   "nbconvert_exporter": "python",
   "pygments_lexer": "ipython3",
   "version": "3.9.6"
  },
  "interpreter": {
   "hash": "6d3363959b53cfe792a5142d94ae973381f9d17b16c83175060b37999ec11eeb"
  }
 },
 "nbformat": 4,
 "nbformat_minor": 4
}